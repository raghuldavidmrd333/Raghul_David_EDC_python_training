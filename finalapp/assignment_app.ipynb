{
    "metadata": {
        "kernelspec": {
            "name": "SQL",
            "display_name": "SQL",
            "language": "sql"
        },
        "language_info": {
            "name": "sql",
            "version": ""
        }
    },
    "nbformat_minor": 2,
    "nbformat": 4,
    "cells": [
        {
            "cell_type": "code",
            "source": [
                "CREATE DATABASE assignment_dbase"
            ],
            "metadata": {
                "azdata_cell_guid": "01e33116-c969-4745-97d6-4d3cf3a8542a",
                "language": "sql"
            },
            "outputs": [
                {
                    "output_type": "display_data",
                    "data": {
                        "text/html": "Commands completed successfully."
                    },
                    "metadata": {}
                },
                {
                    "output_type": "display_data",
                    "data": {
                        "text/html": "Total execution time: 00:00:00.705"
                    },
                    "metadata": {}
                }
            ],
            "execution_count": 1
        },
        {
            "cell_type": "code",
            "source": [
                "use assignment_dbase"
            ],
            "metadata": {
                "azdata_cell_guid": "2322f22d-cd79-44fb-8177-0a10cb734b55",
                "language": "sql"
            },
            "outputs": [
                {
                    "output_type": "display_data",
                    "data": {
                        "text/html": "Commands completed successfully."
                    },
                    "metadata": {}
                },
                {
                    "output_type": "display_data",
                    "data": {
                        "text/html": "Total execution time: 00:00:00.285"
                    },
                    "metadata": {}
                }
            ],
            "execution_count": 2
        },
        {
            "cell_type": "code",
            "source": [
                "CREATE TABLE author_details (\r\n",
                "    authorid VARCHAR(10) PRIMARY KEY ,\r\n",
                "    name VARCHAR(255),\r\n",
                "    bio TEXT,\r\n",
                ");"
            ],
            "metadata": {
                "language": "sql",
                "azdata_cell_guid": "43a54d2a-6166-4658-b378-230bf79ad3c3"
            },
            "outputs": [
                {
                    "output_type": "display_data",
                    "data": {
                        "text/html": "Commands completed successfully."
                    },
                    "metadata": {}
                },
                {
                    "output_type": "display_data",
                    "data": {
                        "text/html": "Total execution time: 00:00:00.085"
                    },
                    "metadata": {}
                }
            ],
            "execution_count": 4
        },
        {
            "cell_type": "code",
            "source": [
                "INSERT into author_details VALUES('amish','Amish','Wrote the Scion of ikshvaku'),\r\n",
                "                                             ('c_b','Chetan Bhagat','Wrote many fictional stories'),\r\n",
                "                                             ('j_a','Jeffrey Archer','Wrote 2 books present in database'),\r\n",
                "                                             ('jk','JK Rowlings','Wrote 7 parts of Harry Potter'),\r\n",
                "                                             ('j_g','John Grisham','Wrote 1 book'),\r\n",
                "                                             ('r_s_d','Ramdhari Singh Dinkar','Wrote 2 books recorded in database'),\r\n",
                "                                             ('v_d_m','Vivek Dutta Mishra','Wrote 2 books');"
            ],
            "metadata": {
                "language": "sql",
                "azdata_cell_guid": "000d4fb3-9f6c-4210-a9aa-44c1766b8632"
            },
            "outputs": [
                {
                    "output_type": "display_data",
                    "data": {
                        "text/html": "(7 rows affected)"
                    },
                    "metadata": {}
                },
                {
                    "output_type": "display_data",
                    "data": {
                        "text/html": "Total execution time: 00:00:00.089"
                    },
                    "metadata": {}
                }
            ],
            "execution_count": 5
        },
        {
            "cell_type": "code",
            "source": [
                "CREATE TABLE book_details (\r\n",
                "    bookid VARCHAR(50) PRIMARY KEY,\r\n",
                "    title VARCHAR(255),\r\n",
                "    details TEXT,\r\n",
                "    authorid VARCHAR(10) FOREIGN KEY (authorid) REFERENCES author_details(authorid)\r\n",
                ");"
            ],
            "metadata": {
                "language": "sql",
                "azdata_cell_guid": "6e605097-450d-4d22-a180-ce1f4e6b8147"
            },
            "outputs": [
                {
                    "output_type": "display_data",
                    "data": {
                        "text/html": "Commands completed successfully."
                    },
                    "metadata": {}
                },
                {
                    "output_type": "display_data",
                    "data": {
                        "text/html": "Total execution time: 00:00:00.072"
                    },
                    "metadata": {}
                }
            ],
            "execution_count": 7
        },
        {
            "cell_type": "code",
            "source": [
                "INSERT  \r\n",
                "\r\n",
                "    INTO  \r\n",
                "\r\n",
                "        book_details \r\n",
                "\r\n",
                "    VALUES \r\n",
                "\r\n",
                "        ('kane-and-abel','Kane and Abel','A book by jeffrey archer','j_a'),\r\n",
                "         \r\n",
                "        ('rashmirathi','Rashmirathi','A book by Ramdhari sing dinkar','r_s_d'), \r\n",
                "\r\n",
                "        ('sons-of-fortune','Sons of Fortune','A book by jeffrey archer','j_a'), \r\n",
                "\r\n",
                "        ('manas','Manas','A book by Vivek dutta mishra','v_d_m'), \r\n",
                "\r\n",
                "        ('summons','Summons','A book by John Grisham','j_g'), \r\n",
                "\r\n",
                "        ('five-point-someone','Five Point SomeOne','A book by Ramdhari sing dinkar','r_s_d'), \r\n",
                "\r\n",
                "        ('scion-of-ikshavaku','The Scion of Ikshavaku','A book by Amish','amish'), \r\n",
                "\r\n",
                "        ('the-accursed-god','The Accursed God','A book by Vivek dutta mishra','v_d_m');"
            ],
            "metadata": {
                "language": "sql",
                "azdata_cell_guid": "c2452bb5-6ebe-4550-8c10-db9d8fa77dff"
            },
            "outputs": [
                {
                    "output_type": "display_data",
                    "data": {
                        "text/html": "(8 rows affected)"
                    },
                    "metadata": {}
                },
                {
                    "output_type": "display_data",
                    "data": {
                        "text/html": "Total execution time: 00:00:00.078"
                    },
                    "metadata": {}
                }
            ],
            "execution_count": 8
        },
        {
            "cell_type": "code",
            "source": [
                "CREATE TABLE user_details (\r\n",
                "    userid INT PRIMARY KEY,\r\n",
                "    username VARCHAR(255),\r\n",
                "    password VARCHAR(255)\r\n",
                ");"
            ],
            "metadata": {
                "language": "sql",
                "azdata_cell_guid": "80c2ccc8-5fd3-4e06-950d-98b63de9c616"
            },
            "outputs": [
                {
                    "output_type": "display_data",
                    "data": {
                        "text/html": "Commands completed successfully."
                    },
                    "metadata": {}
                },
                {
                    "output_type": "display_data",
                    "data": {
                        "text/html": "Total execution time: 00:00:00.072"
                    },
                    "metadata": {}
                }
            ],
            "execution_count": 9
        },
        {
            "cell_type": "code",
            "source": [
                "INSERT  \r\n",
                "\r\n",
                "    INTO  \r\n",
                "\r\n",
                "        user_details  \r\n",
                "\r\n",
                "    VALUES \r\n",
                "\r\n",
                "        \r\n",
                "        (1,'MRD','MRD@333'),\r\n",
                "        (2,'SSG','SSGSTAR'),\r\n",
                "        (3,'RAJU','RAJUJAGGU1253');"
            ],
            "metadata": {
                "language": "sql",
                "azdata_cell_guid": "da3ca84b-848c-4728-aba3-2232eed0da4f"
            },
            "outputs": [
                {
                    "output_type": "display_data",
                    "data": {
                        "text/html": "(3 rows affected)"
                    },
                    "metadata": {}
                },
                {
                    "output_type": "display_data",
                    "data": {
                        "text/html": "Total execution time: 00:00:00.072"
                    },
                    "metadata": {}
                }
            ],
            "execution_count": 10
        },
        {
            "cell_type": "code",
            "source": [
                "CREATE TABLE rev_details (\r\n",
                "    reviewid INT ,\r\n",
                "    bookid VARCHAR(50) FOREIGN KEY (bookid) REFERENCES book_details(bookid),\r\n",
                "    userid INT FOREIGN KEY (userid) REFERENCES user_details(userid),\r\n",
                "    rating INT,\r\n",
                "    review_text TEXT\r\n",
                ");"
            ],
            "metadata": {
                "language": "sql",
                "azdata_cell_guid": "f915bdbb-d3cf-4975-b75d-dfed64790a28"
            },
            "outputs": [
                {
                    "output_type": "display_data",
                    "data": {
                        "text/html": "Commands completed successfully."
                    },
                    "metadata": {}
                },
                {
                    "output_type": "display_data",
                    "data": {
                        "text/html": "Total execution time: 00:00:00.074"
                    },
                    "metadata": {}
                }
            ],
            "execution_count": 12
        },
        {
            "cell_type": "code",
            "source": [
                "INSERT INTO  \r\n",
                "    rev_details\r\n",
                "VALUES \r\n",
                "    (1,'kane-and-abel',1,4,'Nice Book'),\r\n",
                "         \r\n",
                "    (2,'rashmirathi',2,3.5,'Good book'), \r\n",
                "\r\n",
                "    (3,'sons-of-fortune',3,4.5,'Thoughtfull'), \r\n",
                "\r\n",
                "    (4,'manas',1,4.7,'Good Book'), \r\n",
                "\r\n",
                "    (5,'summons',2,3.9,'Amazing'), \r\n",
                "\r\n",
                "    (6,'five-point-someone',3,3,'Great work'), \r\n",
                "\r\n",
                "    (7,'scion-of-ikshavaku',1,3.8,'Nice creativity'), \r\n",
                "\r\n",
                "    (8,'the-accursed-god',2,4.2,'Nice'); "
            ],
            "metadata": {
                "language": "sql",
                "azdata_cell_guid": "bc98da20-034b-4ef2-818a-3f0b9418f82e"
            },
            "outputs": [
                {
                    "output_type": "display_data",
                    "data": {
                        "text/html": "(8 rows affected)"
                    },
                    "metadata": {}
                },
                {
                    "output_type": "display_data",
                    "data": {
                        "text/html": "Total execution time: 00:00:00.101"
                    },
                    "metadata": {}
                }
            ],
            "execution_count": 14
        },
        {
            "cell_type": "code",
            "source": [
                "INSERT INTO  \r\n",
                "    rev_details\r\n",
                "VALUES \r\n",
                "    (1,'kane-and-abel',1,4,'Nice Book');"
            ],
            "metadata": {
                "language": "sql",
                "azdata_cell_guid": "1a0d7fbb-96a8-4861-96c7-577c9b736aac"
            },
            "outputs": [
                {
                    "output_type": "display_data",
                    "data": {
                        "text/html": "(1 row affected)"
                    },
                    "metadata": {}
                },
                {
                    "output_type": "display_data",
                    "data": {
                        "text/html": "Total execution time: 00:00:00.074"
                    },
                    "metadata": {}
                }
            ],
            "execution_count": 15
        },
        {
            "cell_type": "code",
            "source": [
                "SELECT * from author_details"
            ],
            "metadata": {
                "language": "sql",
                "azdata_cell_guid": "aec0eb0b-d307-4820-8b8f-c4ca0ab65c77"
            },
            "outputs": [
                {
                    "output_type": "display_data",
                    "data": {
                        "text/html": "(7 rows affected)"
                    },
                    "metadata": {}
                },
                {
                    "output_type": "display_data",
                    "data": {
                        "text/html": "Total execution time: 00:00:00.014"
                    },
                    "metadata": {}
                },
                {
                    "output_type": "execute_result",
                    "metadata": {},
                    "execution_count": 16,
                    "data": {
                        "application/vnd.dataresource+json": {
                            "schema": {
                                "fields": [
                                    {
                                        "name": "authorid"
                                    },
                                    {
                                        "name": "name"
                                    },
                                    {
                                        "name": "bio"
                                    }
                                ]
                            },
                            "data": [
                                {
                                    "authorid": "amish",
                                    "name": "Amish",
                                    "bio": "Wrote the Scion of ikshvaku"
                                },
                                {
                                    "authorid": "c_b",
                                    "name": "Chetan Bhagat",
                                    "bio": "Wrote many fictional stories"
                                },
                                {
                                    "authorid": "j_a",
                                    "name": "Jeffrey Archer",
                                    "bio": "Wrote 2 books present in database"
                                },
                                {
                                    "authorid": "j_g",
                                    "name": "John Grisham",
                                    "bio": "Wrote 1 book"
                                },
                                {
                                    "authorid": "jk",
                                    "name": "JK Rowlings",
                                    "bio": "Wrote 7 parts of Harry Potter"
                                },
                                {
                                    "authorid": "r_s_d",
                                    "name": "Ramdhari Singh Dinkar",
                                    "bio": "Wrote 2 books recorded in database"
                                },
                                {
                                    "authorid": "v_d_m",
                                    "name": "Vivek Dutta Mishra",
                                    "bio": "Wrote 2 books"
                                }
                            ]
                        },
                        "text/html": [
                            "<table>",
                            "<tr><th>authorid</th><th>name</th><th>bio</th></tr>",
                            "<tr><td>amish</td><td>Amish</td><td>Wrote the Scion of ikshvaku</td></tr>",
                            "<tr><td>c_b</td><td>Chetan Bhagat</td><td>Wrote many fictional stories</td></tr>",
                            "<tr><td>j_a</td><td>Jeffrey Archer</td><td>Wrote 2 books present in database</td></tr>",
                            "<tr><td>j_g</td><td>John Grisham</td><td>Wrote 1 book</td></tr>",
                            "<tr><td>jk</td><td>JK Rowlings</td><td>Wrote 7 parts of Harry Potter</td></tr>",
                            "<tr><td>r_s_d</td><td>Ramdhari Singh Dinkar</td><td>Wrote 2 books recorded in database</td></tr>",
                            "<tr><td>v_d_m</td><td>Vivek Dutta Mishra</td><td>Wrote 2 books</td></tr>",
                            "</table>"
                        ]
                    }
                }
            ],
            "execution_count": 16
        },
        {
            "cell_type": "code",
            "source": [
                "select * from user_details"
            ],
            "metadata": {
                "language": "sql",
                "azdata_cell_guid": "8da2dc52-2c0c-47db-a697-e667f0da60b6"
            },
            "outputs": [
                {
                    "output_type": "display_data",
                    "data": {
                        "text/html": "(3 rows affected)"
                    },
                    "metadata": {}
                },
                {
                    "output_type": "display_data",
                    "data": {
                        "text/html": "Total execution time: 00:00:00.009"
                    },
                    "metadata": {}
                },
                {
                    "output_type": "execute_result",
                    "metadata": {},
                    "execution_count": 17,
                    "data": {
                        "application/vnd.dataresource+json": {
                            "schema": {
                                "fields": [
                                    {
                                        "name": "userid"
                                    },
                                    {
                                        "name": "username"
                                    },
                                    {
                                        "name": "password"
                                    }
                                ]
                            },
                            "data": [
                                {
                                    "userid": "1",
                                    "username": "MRD",
                                    "password": "MRD@333"
                                },
                                {
                                    "userid": "2",
                                    "username": "SSG",
                                    "password": "SSGSTAR"
                                },
                                {
                                    "userid": "3",
                                    "username": "RAJU",
                                    "password": "RAJUJAGGU1253"
                                }
                            ]
                        },
                        "text/html": [
                            "<table>",
                            "<tr><th>userid</th><th>username</th><th>password</th></tr>",
                            "<tr><td>1</td><td>MRD</td><td>MRD@333</td></tr>",
                            "<tr><td>2</td><td>SSG</td><td>SSGSTAR</td></tr>",
                            "<tr><td>3</td><td>RAJU</td><td>RAJUJAGGU1253</td></tr>",
                            "</table>"
                        ]
                    }
                }
            ],
            "execution_count": 17
        },
        {
            "cell_type": "code",
            "source": [
                "SELECT * FROM book_details"
            ],
            "metadata": {
                "language": "sql",
                "azdata_cell_guid": "b5eca03e-70b0-4249-89f8-5a2746458e24"
            },
            "outputs": [
                {
                    "output_type": "display_data",
                    "data": {
                        "text/html": "(8 rows affected)"
                    },
                    "metadata": {}
                },
                {
                    "output_type": "display_data",
                    "data": {
                        "text/html": "Total execution time: 00:00:00.076"
                    },
                    "metadata": {}
                },
                {
                    "output_type": "execute_result",
                    "metadata": {},
                    "execution_count": 18,
                    "data": {
                        "application/vnd.dataresource+json": {
                            "schema": {
                                "fields": [
                                    {
                                        "name": "bookid"
                                    },
                                    {
                                        "name": "title"
                                    },
                                    {
                                        "name": "details"
                                    },
                                    {
                                        "name": "authorid"
                                    }
                                ]
                            },
                            "data": [
                                {
                                    "bookid": "five-point-someone",
                                    "title": "Five Point SomeOne",
                                    "details": "A book by Ramdhari sing dinkar",
                                    "authorid": "r_s_d"
                                },
                                {
                                    "bookid": "kane-and-abel",
                                    "title": "Kane and Abel",
                                    "details": "A book by jeffrey archer",
                                    "authorid": "j_a"
                                },
                                {
                                    "bookid": "manas",
                                    "title": "Manas",
                                    "details": "A book by Vivek dutta mishra",
                                    "authorid": "v_d_m"
                                },
                                {
                                    "bookid": "rashmirathi",
                                    "title": "Rashmirathi",
                                    "details": "A book by Ramdhari sing dinkar",
                                    "authorid": "r_s_d"
                                },
                                {
                                    "bookid": "scion-of-ikshavaku",
                                    "title": "The Scion of Ikshavaku",
                                    "details": "A book by Amish",
                                    "authorid": "amish"
                                },
                                {
                                    "bookid": "sons-of-fortune",
                                    "title": "Sons of Fortune",
                                    "details": "A book by jeffrey archer",
                                    "authorid": "j_a"
                                },
                                {
                                    "bookid": "summons",
                                    "title": "Summons",
                                    "details": "A book by John Grisham",
                                    "authorid": "j_g"
                                },
                                {
                                    "bookid": "the-accursed-god",
                                    "title": "The Accursed God",
                                    "details": "A book by Vivek dutta mishra",
                                    "authorid": "v_d_m"
                                }
                            ]
                        },
                        "text/html": [
                            "<table>",
                            "<tr><th>bookid</th><th>title</th><th>details</th><th>authorid</th></tr>",
                            "<tr><td>five-point-someone</td><td>Five Point SomeOne</td><td>A book by Ramdhari sing dinkar</td><td>r_s_d</td></tr>",
                            "<tr><td>kane-and-abel</td><td>Kane and Abel</td><td>A book by jeffrey archer</td><td>j_a</td></tr>",
                            "<tr><td>manas</td><td>Manas</td><td>A book by Vivek dutta mishra</td><td>v_d_m</td></tr>",
                            "<tr><td>rashmirathi</td><td>Rashmirathi</td><td>A book by Ramdhari sing dinkar</td><td>r_s_d</td></tr>",
                            "<tr><td>scion-of-ikshavaku</td><td>The Scion of Ikshavaku</td><td>A book by Amish</td><td>amish</td></tr>",
                            "<tr><td>sons-of-fortune</td><td>Sons of Fortune</td><td>A book by jeffrey archer</td><td>j_a</td></tr>",
                            "<tr><td>summons</td><td>Summons</td><td>A book by John Grisham</td><td>j_g</td></tr>",
                            "<tr><td>the-accursed-god</td><td>The Accursed God</td><td>A book by Vivek dutta mishra</td><td>v_d_m</td></tr>",
                            "</table>"
                        ]
                    }
                }
            ],
            "execution_count": 18
        },
        {
            "cell_type": "code",
            "source": [
                "SELECT * FROM rev_details"
            ],
            "metadata": {
                "language": "sql",
                "azdata_cell_guid": "15a5e872-ce9a-402a-907b-bd786b46da47"
            },
            "outputs": [
                {
                    "output_type": "display_data",
                    "data": {
                        "text/html": "(9 rows affected)"
                    },
                    "metadata": {}
                },
                {
                    "output_type": "display_data",
                    "data": {
                        "text/html": "Total execution time: 00:00:00.019"
                    },
                    "metadata": {}
                },
                {
                    "output_type": "execute_result",
                    "metadata": {},
                    "execution_count": 19,
                    "data": {
                        "application/vnd.dataresource+json": {
                            "schema": {
                                "fields": [
                                    {
                                        "name": "reviewid"
                                    },
                                    {
                                        "name": "bookid"
                                    },
                                    {
                                        "name": "userid"
                                    },
                                    {
                                        "name": "rating"
                                    },
                                    {
                                        "name": "review_text"
                                    }
                                ]
                            },
                            "data": [
                                {
                                    "reviewid": "1",
                                    "bookid": "kane-and-abel",
                                    "userid": "1",
                                    "rating": "4",
                                    "review_text": "Nice Book"
                                },
                                {
                                    "reviewid": "2",
                                    "bookid": "rashmirathi",
                                    "userid": "2",
                                    "rating": "3",
                                    "review_text": "Good book"
                                },
                                {
                                    "reviewid": "3",
                                    "bookid": "sons-of-fortune",
                                    "userid": "3",
                                    "rating": "4",
                                    "review_text": "Thoughtfull"
                                },
                                {
                                    "reviewid": "4",
                                    "bookid": "manas",
                                    "userid": "1",
                                    "rating": "4",
                                    "review_text": "Good Book"
                                },
                                {
                                    "reviewid": "5",
                                    "bookid": "summons",
                                    "userid": "2",
                                    "rating": "3",
                                    "review_text": "Amazing"
                                },
                                {
                                    "reviewid": "6",
                                    "bookid": "five-point-someone",
                                    "userid": "3",
                                    "rating": "3",
                                    "review_text": "Great work"
                                },
                                {
                                    "reviewid": "7",
                                    "bookid": "scion-of-ikshavaku",
                                    "userid": "1",
                                    "rating": "3",
                                    "review_text": "Nice creativity"
                                },
                                {
                                    "reviewid": "8",
                                    "bookid": "the-accursed-god",
                                    "userid": "2",
                                    "rating": "4",
                                    "review_text": "Nice"
                                },
                                {
                                    "reviewid": "1",
                                    "bookid": "kane-and-abel",
                                    "userid": "1",
                                    "rating": "4",
                                    "review_text": "Nice Book"
                                }
                            ]
                        },
                        "text/html": [
                            "<table>",
                            "<tr><th>reviewid</th><th>bookid</th><th>userid</th><th>rating</th><th>review_text</th></tr>",
                            "<tr><td>1</td><td>kane-and-abel</td><td>1</td><td>4</td><td>Nice Book</td></tr>",
                            "<tr><td>2</td><td>rashmirathi</td><td>2</td><td>3</td><td>Good book</td></tr>",
                            "<tr><td>3</td><td>sons-of-fortune</td><td>3</td><td>4</td><td>Thoughtfull</td></tr>",
                            "<tr><td>4</td><td>manas</td><td>1</td><td>4</td><td>Good Book</td></tr>",
                            "<tr><td>5</td><td>summons</td><td>2</td><td>3</td><td>Amazing</td></tr>",
                            "<tr><td>6</td><td>five-point-someone</td><td>3</td><td>3</td><td>Great work</td></tr>",
                            "<tr><td>7</td><td>scion-of-ikshavaku</td><td>1</td><td>3</td><td>Nice creativity</td></tr>",
                            "<tr><td>8</td><td>the-accursed-god</td><td>2</td><td>4</td><td>Nice</td></tr>",
                            "<tr><td>1</td><td>kane-and-abel</td><td>1</td><td>4</td><td>Nice Book</td></tr>",
                            "</table>"
                        ]
                    }
                }
            ],
            "execution_count": 19
        },
        {
            "cell_type": "code",
            "source": [
                "SELECT B.title, R.rating, R.review_text\r\n",
                "FROM rev_details R\r\n",
                "JOIN book_details B ON R.bookid = B.bookid\r\n",
                "WHERE B.authorid = 'amish';"
            ],
            "metadata": {
                "language": "sql",
                "azdata_cell_guid": "72288d32-b019-4325-a735-88c3d6a46fef"
            },
            "outputs": [
                {
                    "output_type": "display_data",
                    "data": {
                        "text/html": "(1 row affected)"
                    },
                    "metadata": {}
                },
                {
                    "output_type": "display_data",
                    "data": {
                        "text/html": "Total execution time: 00:00:00.027"
                    },
                    "metadata": {}
                },
                {
                    "output_type": "execute_result",
                    "metadata": {},
                    "execution_count": 20,
                    "data": {
                        "application/vnd.dataresource+json": {
                            "schema": {
                                "fields": [
                                    {
                                        "name": "title"
                                    },
                                    {
                                        "name": "rating"
                                    },
                                    {
                                        "name": "review_text"
                                    }
                                ]
                            },
                            "data": [
                                {
                                    "title": "The Scion of Ikshavaku",
                                    "rating": "3",
                                    "review_text": "Nice creativity"
                                }
                            ]
                        },
                        "text/html": [
                            "<table>",
                            "<tr><th>title</th><th>rating</th><th>review_text</th></tr>",
                            "<tr><td>The Scion of Ikshavaku</td><td>3</td><td>Nice creativity</td></tr>",
                            "</table>"
                        ]
                    }
                }
            ],
            "execution_count": 20
        },
        {
            "cell_type": "code",
            "source": [
                "SELECT B.title,B.details, R.rating, R.review_text \r\n",
                "                      FROM rev_details R\r\n",
                "                      JOIN book_details B ON R.bookid = B.bookid\r\n",
                "                      WHERE R.reviewid = 1;"
            ],
            "metadata": {
                "language": "sql",
                "azdata_cell_guid": "86dff666-9d36-49f1-95ad-bcb677d19c87"
            },
            "outputs": [
                {
                    "output_type": "display_data",
                    "data": {
                        "text/html": "(2 rows affected)"
                    },
                    "metadata": {}
                },
                {
                    "output_type": "display_data",
                    "data": {
                        "text/html": "Total execution time: 00:00:00.084"
                    },
                    "metadata": {}
                },
                {
                    "output_type": "execute_result",
                    "metadata": {},
                    "execution_count": 25,
                    "data": {
                        "application/vnd.dataresource+json": {
                            "schema": {
                                "fields": [
                                    {
                                        "name": "title"
                                    },
                                    {
                                        "name": "details"
                                    },
                                    {
                                        "name": "rating"
                                    },
                                    {
                                        "name": "review_text"
                                    }
                                ]
                            },
                            "data": [
                                {
                                    "title": "Kane and Abel",
                                    "details": "A book by jeffrey archer",
                                    "rating": "4",
                                    "review_text": "Nice Book"
                                },
                                {
                                    "title": "Kane and Abel",
                                    "details": "A book by jeffrey archer",
                                    "rating": "4",
                                    "review_text": "Nice Book"
                                }
                            ]
                        },
                        "text/html": [
                            "<table>",
                            "<tr><th>title</th><th>details</th><th>rating</th><th>review_text</th></tr>",
                            "<tr><td>Kane and Abel</td><td>A book by jeffrey archer</td><td>4</td><td>Nice Book</td></tr>",
                            "<tr><td>Kane and Abel</td><td>A book by jeffrey archer</td><td>4</td><td>Nice Book</td></tr>",
                            "</table>"
                        ]
                    }
                }
            ],
            "execution_count": 25
        },
        {
            "cell_type": "code",
            "source": [
                "SELECT R.userid,B.title, R.rating, R.review_text\r\n",
                "FROM rev_details R\r\n",
                "JOIN book_Details B ON R.bookid = B.bookid\r\n",
                "WHERE R.userid = 1;"
            ],
            "metadata": {
                "language": "sql",
                "azdata_cell_guid": "0ca0d6c4-7442-4d2c-b989-982eee860bee"
            },
            "outputs": [
                {
                    "output_type": "display_data",
                    "data": {
                        "text/html": "(4 rows affected)"
                    },
                    "metadata": {}
                },
                {
                    "output_type": "display_data",
                    "data": {
                        "text/html": "Total execution time: 00:00:00.071"
                    },
                    "metadata": {}
                },
                {
                    "output_type": "execute_result",
                    "metadata": {},
                    "execution_count": 26,
                    "data": {
                        "application/vnd.dataresource+json": {
                            "schema": {
                                "fields": [
                                    {
                                        "name": "userid"
                                    },
                                    {
                                        "name": "title"
                                    },
                                    {
                                        "name": "rating"
                                    },
                                    {
                                        "name": "review_text"
                                    }
                                ]
                            },
                            "data": [
                                {
                                    "userid": "1",
                                    "title": "Kane and Abel",
                                    "rating": "4",
                                    "review_text": "Nice Book"
                                },
                                {
                                    "userid": "1",
                                    "title": "Manas",
                                    "rating": "4",
                                    "review_text": "Good Book"
                                },
                                {
                                    "userid": "1",
                                    "title": "The Scion of Ikshavaku",
                                    "rating": "3",
                                    "review_text": "Nice creativity"
                                },
                                {
                                    "userid": "1",
                                    "title": "Kane and Abel",
                                    "rating": "4",
                                    "review_text": "Nice Book"
                                }
                            ]
                        },
                        "text/html": [
                            "<table>",
                            "<tr><th>userid</th><th>title</th><th>rating</th><th>review_text</th></tr>",
                            "<tr><td>1</td><td>Kane and Abel</td><td>4</td><td>Nice Book</td></tr>",
                            "<tr><td>1</td><td>Manas</td><td>4</td><td>Good Book</td></tr>",
                            "<tr><td>1</td><td>The Scion of Ikshavaku</td><td>3</td><td>Nice creativity</td></tr>",
                            "<tr><td>1</td><td>Kane and Abel</td><td>4</td><td>Nice Book</td></tr>",
                            "</table>"
                        ]
                    }
                }
            ],
            "execution_count": 26
        }
    ]
}